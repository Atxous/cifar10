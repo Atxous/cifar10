{
 "cells": [
  {
   "cell_type": "code",
   "execution_count": 1,
   "id": "50ae6bfe",
   "metadata": {},
   "outputs": [],
   "source": [
    "import numpy as np\n",
    "import pandas as pd\n",
    "import tensorflow as tf\n",
    "import matplotlib.pyplot as plt\n",
    "tf.random.set_seed(42)\n",
    "%load_ext tensorboard\n",
    "\n",
    "(x_train, y_train), (x_test, y_test) = tf.keras.datasets.cifar10.load_data()\n",
    "x_train, y_train, x_valid, y_valid = x_train[:-5000], y_train[:-5000], x_train[-5000:], y_train[-5000:]"
   ]
  },
  {
   "cell_type": "code",
   "execution_count": 2,
   "id": "ca63be72",
   "metadata": {},
   "outputs": [],
   "source": [
    "from sklearn.decomposition import PCA\n",
    "\n",
    "pca = PCA(0.99)\n",
    "x_train_pca = pca.fit_transform(x_train.reshape(-1, 3072))\n",
    "x_valid_pca = pca.transform(x_valid.reshape(-1, 3072))"
   ]
  },
  {
   "cell_type": "code",
   "execution_count": 3,
   "id": "a7a8d281",
   "metadata": {},
   "outputs": [
    {
     "data": {
      "text/plain": [
       "(5000, 657)"
      ]
     },
     "execution_count": 3,
     "metadata": {},
     "output_type": "execute_result"
    }
   ],
   "source": [
    "x_valid_pca.shape"
   ]
  },
  {
   "cell_type": "code",
   "execution_count": 4,
   "id": "76eb9a78",
   "metadata": {},
   "outputs": [],
   "source": [
    "model = tf.keras.Sequential()\n",
    "model.add(tf.keras.layers.Flatten())\n",
    "for i in range(20):\n",
    "    model.add(tf.keras.layers.Dense(100, activation = \"swish\", kernel_initializer = \"he_normal\"))\n",
    "model.add(tf.keras.layers.Dense(10, activation = \"softmax\"))"
   ]
  },
  {
   "cell_type": "code",
   "execution_count": 5,
   "id": "6b7e321c",
   "metadata": {},
   "outputs": [],
   "source": [
    "from pathlib import Path\n",
    "from time import strftime\n",
    "\n",
    "def get_logdir():\n",
    "    return Path(\"logs_test\") / strftime(\"run_%Y_%m_%d_%H_%M_%S\")\n",
    "\n",
    "logdir = get_logdir()"
   ]
  },
  {
   "cell_type": "code",
   "execution_count": 6,
   "id": "cd053c1e",
   "metadata": {},
   "outputs": [],
   "source": [
    "early_stop_cb = tf.keras.callbacks.EarlyStopping(patience = 10, restore_best_weights = True)\n",
    "tensorboard_cb = tf.keras.callbacks.TensorBoard(logdir, profile_batch = (100, 300))\n",
    "\n",
    "k = tf.keras.backend\n",
    "\n",
    "class GrowingLearningRate(tf.keras.callbacks.Callback):\n",
    "    def __init__(self, factor):\n",
    "        self.factor = factor\n",
    "        self.rates = []\n",
    "        self.losses = []\n",
    "    def on_batch_end(self, batch, logs):\n",
    "        self.rates.append(k.get_value(self.model.optimizer.learning_rate))\n",
    "        self.losses.append(logs[\"loss\"])\n",
    "        k.set_value(self.model.optimizer.learning_rate, self.model.optimizer.learning_rate * self.factor)\n",
    "\n",
    "lr_growth = GrowingLearningRate(factor = 1.005)\n"
   ]
  },
  {
   "cell_type": "code",
   "execution_count": 7,
   "id": "5526ed2a",
   "metadata": {},
   "outputs": [],
   "source": [
    "optimizer = tf.keras.optimizers.Nadam(learning_rate = 0.001, beta_1 = 0.9, beta_2 = 0.999)\n",
    "model.compile(loss = \"sparse_categorical_crossentropy\", optimizer = optimizer, metrics = [\"accuracy\"])"
   ]
  },
  {
   "cell_type": "code",
   "execution_count": 8,
   "id": "afa490c2",
   "metadata": {},
   "outputs": [
    {
     "name": "stdout",
     "output_type": "stream",
     "text": [
      "1407/1407 [==============================] - 7s 2ms/step - loss: 91.2595 - accuracy: 0.1144 - val_loss: 2.5291 - val_accuracy: 0.1024\n"
     ]
    }
   ],
   "source": [
    "history = model.fit(x_train_pca, y_train, epochs = 1, validation_data = (x_valid_pca, y_valid), \n",
    "                   callbacks = [early_stop_cb, lr_growth])"
   ]
  },
  {
   "cell_type": "code",
   "execution_count": 9,
   "id": "ec92fe59",
   "metadata": {},
   "outputs": [
    {
     "data": {
      "image/png": "[encoded data removed]",
      "text/plain": [
       "<Figure size 640x480 with 1 Axes>"
      ]
     },
     "metadata": {},
     "output_type": "display_data"
    }
   ],
   "source": [
    "plt.plot(lr_growth.rates, lr_growth.losses)\n",
    "plt.gca().set_xscale(\"log\")\n",
    "plt.hlines(min(lr_growth.losses), min(lr_growth.rates), max(lr_growth.rates))\n",
    "plt.axis([min(lr_growth.rates), max(lr_growth.rates), 0, lr_growth.losses[0]])\n",
    "plt.grid()"
   ]
  },
  {
   "cell_type": "code",
   "execution_count": 10,
   "id": "e769af69",
   "metadata": {},
   "outputs": [
    {
     "data": {
      "text/plain": [
       "0.01378312"
      ]
     },
     "execution_count": 10,
     "metadata": {},
     "output_type": "execute_result"
    }
   ],
   "source": [
    "lr_growth.rates[np.argmin(lr_growth.losses)]"
   ]
  },
  {
   "cell_type": "code",
   "execution_count": 11,
   "id": "605d6e6f",
   "metadata": {},
   "outputs": [],
   "source": [
    "model = tf.keras.Sequential()\n",
    "model.add(tf.keras.layers.Flatten())\n",
    "for i in range(20):\n",
    "    model.add(tf.keras.layers.Dense(100, activation = \"swish\", kernel_initializer = \"he_normal\"))\n",
    "model.add(tf.keras.layers.Dense(10, activation = \"softmax\"))\n",
    "optimizer = tf.keras.optimizers.Nadam(learning_rate = 5e-4, beta_1 = 0.9, beta_2 = 0.999)\n",
    "model.compile(loss = \"sparse_categorical_crossentropy\", optimizer = optimizer, metrics = [\"accuracy\"])"
   ]
  },
  {
   "cell_type": "code",
   "execution_count": 12,
   "id": "dadbcc27",
   "metadata": {},
   "outputs": [
    {
     "name": "stdout",
     "output_type": "stream",
     "text": [
      "Epoch 1/100\n",
      "1407/1407 [==============================] - 7s 2ms/step - loss: 2.8973 - accuracy: 0.1724 - val_loss: 2.0454 - val_accuracy: 0.2612\n",
      "Epoch 2/100\n",
      "1407/1407 [==============================] - 3s 2ms/step - loss: 1.9638 - accuracy: 0.2740 - val_loss: 1.8718 - val_accuracy: 0.3122\n",
      "Epoch 3/100\n",
      "1407/1407 [==============================] - 3s 2ms/step - loss: 1.8023 - accuracy: 0.3295 - val_loss: 1.7790 - val_accuracy: 0.3506\n",
      "Epoch 4/100\n",
      "1407/1407 [==============================] - 3s 2ms/step - loss: 1.6877 - accuracy: 0.3768 - val_loss: 1.7261 - val_accuracy: 0.3724\n",
      "Epoch 5/100\n",
      "1407/1407 [==============================] - 3s 2ms/step - loss: 1.5782 - accuracy: 0.4268 - val_loss: 1.6260 - val_accuracy: 0.4228\n",
      "Epoch 6/100\n",
      "1407/1407 [==============================] - 3s 2ms/step - loss: 1.4832 - accuracy: 0.4652 - val_loss: 1.5755 - val_accuracy: 0.4426\n",
      "Epoch 7/100\n",
      "1407/1407 [==============================] - 3s 2ms/step - loss: 1.3952 - accuracy: 0.4990 - val_loss: 1.5887 - val_accuracy: 0.4384\n",
      "Epoch 8/100\n",
      "1407/1407 [==============================] - 3s 2ms/step - loss: 1.3173 - accuracy: 0.5296 - val_loss: 1.5711 - val_accuracy: 0.4492\n",
      "Epoch 9/100\n",
      "1407/1407 [==============================] - 3s 2ms/step - loss: 1.2399 - accuracy: 0.5567 - val_loss: 1.5997 - val_accuracy: 0.4522\n",
      "Epoch 10/100\n",
      "1407/1407 [==============================] - 3s 2ms/step - loss: 1.1710 - accuracy: 0.5829 - val_loss: 1.5845 - val_accuracy: 0.4466\n",
      "Epoch 11/100\n",
      "1407/1407 [==============================] - 3s 2ms/step - loss: 1.1073 - accuracy: 0.6088 - val_loss: 1.6541 - val_accuracy: 0.4552\n",
      "Epoch 12/100\n",
      "1407/1407 [==============================] - 3s 2ms/step - loss: 1.0528 - accuracy: 0.6276 - val_loss: 1.6876 - val_accuracy: 0.4498\n",
      "Epoch 13/100\n",
      "1407/1407 [==============================] - 3s 2ms/step - loss: 1.0004 - accuracy: 0.6460 - val_loss: 1.6549 - val_accuracy: 0.4540\n",
      "Epoch 14/100\n",
      "1407/1407 [==============================] - 3s 2ms/step - loss: 0.9533 - accuracy: 0.6637 - val_loss: 1.7434 - val_accuracy: 0.4558\n",
      "Epoch 15/100\n",
      "1407/1407 [==============================] - 3s 2ms/step - loss: 0.9123 - accuracy: 0.6777 - val_loss: 1.7774 - val_accuracy: 0.4494\n",
      "Epoch 16/100\n",
      "1407/1407 [==============================] - 3s 2ms/step - loss: 0.8703 - accuracy: 0.6932 - val_loss: 1.8331 - val_accuracy: 0.4490\n",
      "Epoch 17/100\n",
      "1407/1407 [==============================] - 3s 2ms/step - loss: 0.8335 - accuracy: 0.7069 - val_loss: 1.8420 - val_accuracy: 0.4574\n",
      "Epoch 18/100\n",
      "1407/1407 [==============================] - 3s 2ms/step - loss: 0.7967 - accuracy: 0.7227 - val_loss: 1.8989 - val_accuracy: 0.4464\n"
     ]
    }
   ],
   "source": [
    "history = model.fit(x_train_pca, y_train, epochs = 100, validation_data = (x_valid_pca, y_valid), \n",
    "                   callbacks = [early_stop_cb, tensorboard_cb])"
   ]
  },
  {
   "cell_type": "code",
   "execution_count": 13,
   "id": "a09f0e68",
   "metadata": {},
   "outputs": [],
   "source": [
    "tf.keras.backend.clear_session()"
   ]
  },
  {
   "cell_type": "code",
   "execution_count": 14,
   "id": "78bbfbf9",
   "metadata": {},
   "outputs": [],
   "source": [
    "model_with_batch = tf.keras.Sequential()\n",
    "model_with_batch.add(tf.keras.layers.Flatten())\n",
    "for i in range(20):\n",
    "    model_with_batch.add(tf.keras.layers.Dense(100, kernel_initializer = \"he_normal\", use_bias = False))\n",
    "    model_with_batch.add(tf.keras.layers.BatchNormalization())\n",
    "    model_with_batch.add(tf.keras.layers.Activation(\"swish\"))\n",
    "model_with_batch.add(tf.keras.layers.Dense(10, activation = \"softmax\"))"
   ]
  },
  {
   "cell_type": "code",
   "execution_count": 15,
   "id": "388da935",
   "metadata": {},
   "outputs": [],
   "source": [
    "optimizer = tf.keras.optimizers.Nadam(learning_rate = 5e-4, beta_1 = 0.9, beta_2 = 0.999)\n",
    "model_with_batch.compile(loss = \"sparse_categorical_crossentropy\", optimizer = optimizer, metrics = [\"accuracy\"])"
   ]
  },
  {
   "cell_type": "code",
   "execution_count": 16,
   "id": "f92146f4",
   "metadata": {},
   "outputs": [
    {
     "name": "stdout",
     "output_type": "stream",
     "text": [
      "Epoch 1/100\n",
      "1407/1407 [==============================] - 13s 4ms/step - loss: 2.1246 - accuracy: 0.2129 - val_loss: 1.9512 - val_accuracy: 0.3070\n",
      "Epoch 2/100\n",
      "1407/1407 [==============================] - 5s 4ms/step - loss: 1.8278 - accuracy: 0.3327 - val_loss: 1.6996 - val_accuracy: 0.3718\n",
      "Epoch 3/100\n",
      "1407/1407 [==============================] - 5s 4ms/step - loss: 1.6861 - accuracy: 0.3924 - val_loss: 1.5957 - val_accuracy: 0.4304\n",
      "Epoch 4/100\n",
      "1407/1407 [==============================] - 5s 4ms/step - loss: 1.5904 - accuracy: 0.4296 - val_loss: 1.5346 - val_accuracy: 0.4520\n",
      "Epoch 5/100\n",
      "1407/1407 [==============================] - 5s 4ms/step - loss: 1.4979 - accuracy: 0.4678 - val_loss: 1.4613 - val_accuracy: 0.4816\n",
      "Epoch 6/100\n",
      "1407/1407 [==============================] - 5s 4ms/step - loss: 1.4311 - accuracy: 0.4921 - val_loss: 1.4471 - val_accuracy: 0.4864\n",
      "Epoch 7/100\n",
      "1407/1407 [==============================] - 5s 4ms/step - loss: 1.3678 - accuracy: 0.5106 - val_loss: 1.4409 - val_accuracy: 0.4908\n",
      "Epoch 8/100\n",
      "1407/1407 [==============================] - 5s 4ms/step - loss: 1.3168 - accuracy: 0.5319 - val_loss: 1.4317 - val_accuracy: 0.4852\n",
      "Epoch 9/100\n",
      "1407/1407 [==============================] - 5s 4ms/step - loss: 1.2688 - accuracy: 0.5476 - val_loss: 1.4379 - val_accuracy: 0.4962\n",
      "Epoch 10/100\n",
      "1407/1407 [==============================] - 5s 4ms/step - loss: 1.2307 - accuracy: 0.5616 - val_loss: 1.4288 - val_accuracy: 0.4918\n",
      "Epoch 11/100\n",
      "1407/1407 [==============================] - 5s 4ms/step - loss: 1.1844 - accuracy: 0.5778 - val_loss: 1.4247 - val_accuracy: 0.5068\n",
      "Epoch 12/100\n",
      "1407/1407 [==============================] - 5s 4ms/step - loss: 1.1486 - accuracy: 0.5903 - val_loss: 1.4188 - val_accuracy: 0.5102\n",
      "Epoch 13/100\n",
      "1407/1407 [==============================] - 5s 4ms/step - loss: 1.1190 - accuracy: 0.6000 - val_loss: 1.4343 - val_accuracy: 0.5028\n",
      "Epoch 14/100\n",
      "1407/1407 [==============================] - 5s 4ms/step - loss: 1.0891 - accuracy: 0.6098 - val_loss: 1.4607 - val_accuracy: 0.5086\n",
      "Epoch 15/100\n",
      "1407/1407 [==============================] - 6s 4ms/step - loss: 1.0601 - accuracy: 0.6209 - val_loss: 1.4900 - val_accuracy: 0.4974\n",
      "Epoch 16/100\n",
      "1407/1407 [==============================] - 5s 4ms/step - loss: 1.0268 - accuracy: 0.6322 - val_loss: 1.4834 - val_accuracy: 0.5046\n",
      "Epoch 17/100\n",
      "1407/1407 [==============================] - 5s 4ms/step - loss: 0.9963 - accuracy: 0.6416 - val_loss: 1.5197 - val_accuracy: 0.5038\n",
      "Epoch 18/100\n",
      "1407/1407 [==============================] - 6s 4ms/step - loss: 0.9768 - accuracy: 0.6520 - val_loss: 1.4901 - val_accuracy: 0.5128\n",
      "Epoch 19/100\n",
      "1407/1407 [==============================] - 5s 4ms/step - loss: 0.9552 - accuracy: 0.6609 - val_loss: 1.5132 - val_accuracy: 0.5020\n",
      "Epoch 20/100\n",
      "1407/1407 [==============================] - 6s 4ms/step - loss: 0.9411 - accuracy: 0.6638 - val_loss: 1.5389 - val_accuracy: 0.5094\n",
      "Epoch 21/100\n",
      "1407/1407 [==============================] - 6s 5ms/step - loss: 0.9135 - accuracy: 0.6726 - val_loss: 1.5437 - val_accuracy: 0.5018\n",
      "Epoch 22/100\n",
      "1407/1407 [==============================] - 6s 4ms/step - loss: 0.9013 - accuracy: 0.6770 - val_loss: 1.5520 - val_accuracy: 0.5148\n"
     ]
    }
   ],
   "source": [
    "history = model_with_batch.fit(x_train_pca, y_train, epochs = 100, validation_data = (x_valid_pca, y_valid), callbacks = [early_stop_cb, tensorboard_cb])"
   ]
  },
  {
   "cell_type": "code",
   "execution_count": 17,
   "id": "61ff9bac",
   "metadata": {},
   "outputs": [],
   "source": [
    "from sklearn.preprocessing import StandardScaler\n",
    "\n",
    "scaler = StandardScaler()\n",
    "x_train_pca_scaled = scaler.fit_transform(x_train_pca)\n",
    "x_valid_pca_scaled = scaler.transform(x_valid_pca)\n",
    "x_test_pca_scaled = scaler.transform(pca.transform(x_test.reshape(-1, 3072)))"
   ]
  },
  {
   "cell_type": "code",
   "execution_count": 18,
   "id": "5106322b",
   "metadata": {},
   "outputs": [],
   "source": [
    "model_with_SELU = tf.keras.Sequential()\n",
    "model_with_SELU.add(tf.keras.layers.Flatten())\n",
    "for i in range(20):\n",
    "    model_with_SELU.add(tf.keras.layers.Dense(100, kernel_initializer = \"lecun_normal\", activation = \"selu\"))\n",
    "\n",
    "model_with_SELU.add(tf.keras.layers.Dense(10, activation = \"softmax\"))\n",
    "\n",
    "optimizer = tf.keras.optimizers.Nadam(learning_rate = 5e-4)\n",
    "model_with_SELU.compile(loss = \"sparse_categorical_crossentropy\", optimizer = optimizer, metrics = [\"accuracy\"])\n",
    "\n",
    "early_stop_cb = tf.keras.callbacks.EarlyStopping(patience = 20, restore_best_weights = True)\n",
    "model_checkpoint_cb = tf.keras.callbacks.ModelCheckpoint(\"cifar10_selu\", save_best_only = True)\n",
    "run_index = 1\n",
    "logdir = Path() / \"logs_test\" / f\"run_selu_{run_index:03d}\"\n",
    "tensorboard_cb = tf.keras.callbacks.TensorBoard(logdir)\n",
    "callbacks = [early_stop_cb, model_checkpoint_cb, tensorboard_cb]"
   ]
  },
  {
   "cell_type": "code",
   "execution_count": 19,
   "id": "4f1b515b",
   "metadata": {},
   "outputs": [
    {
     "name": "stdout",
     "output_type": "stream",
     "text": [
      "Epoch 1/100\n",
      "1398/1407 [============================>.] - ETA: 0s - loss: 2.1827 - accuracy: 0.1845"
     ]
    },
    {
     "name": "stderr",
     "output_type": "stream",
     "text": [
      "WARNING:absl:Found untraced functions such as _update_step_xla while saving (showing 1 of 1). These functions will not be directly callable after loading.\n"
     ]
    },
    {
     "name": "stdout",
     "output_type": "stream",
     "text": [
      "INFO:tensorflow:Assets written to: cifar10_selu\\assets\n"
     ]
    },
    {
     "name": "stderr",
     "output_type": "stream",
     "text": [
      "INFO:tensorflow:Assets written to: cifar10_selu\\assets\n"
     ]
    },
    {
     "name": "stdout",
     "output_type": "stream",
     "text": [
      "1407/1407 [==============================] - 8s 4ms/step - loss: 2.1811 - accuracy: 0.1852 - val_loss: 1.9987 - val_accuracy: 0.2562\n",
      "Epoch 2/100\n",
      "1402/1407 [============================>.] - ETA: 0s - loss: 1.8865 - accuracy: 0.2993"
     ]
    },
    {
     "name": "stderr",
     "output_type": "stream",
     "text": [
      "WARNING:absl:Found untraced functions such as _update_step_xla while saving (showing 1 of 1). These functions will not be directly callable after loading.\n"
     ]
    },
    {
     "name": "stdout",
     "output_type": "stream",
     "text": [
      "INFO:tensorflow:Assets written to: cifar10_selu\\assets\n"
     ]
    },
    {
     "name": "stderr",
     "output_type": "stream",
     "text": [
      "INFO:tensorflow:Assets written to: cifar10_selu\\assets\n"
     ]
    },
    {
     "name": "stdout",
     "output_type": "stream",
     "text": [
      "1407/1407 [==============================] - 5s 3ms/step - loss: 1.8867 - accuracy: 0.2994 - val_loss: 1.8637 - val_accuracy: 0.3284\n",
      "Epoch 3/100\n",
      "1395/1407 [============================>.] - ETA: 0s - loss: 1.7613 - accuracy: 0.3588"
     ]
    },
    {
     "name": "stderr",
     "output_type": "stream",
     "text": [
      "WARNING:absl:Found untraced functions such as _update_step_xla while saving (showing 1 of 1). These functions will not be directly callable after loading.\n"
     ]
    },
    {
     "name": "stdout",
     "output_type": "stream",
     "text": [
      "INFO:tensorflow:Assets written to: cifar10_selu\\assets\n"
     ]
    },
    {
     "name": "stderr",
     "output_type": "stream",
     "text": [
      "INFO:tensorflow:Assets written to: cifar10_selu\\assets\n"
     ]
    },
    {
     "name": "stdout",
     "output_type": "stream",
     "text": [
      "1407/1407 [==============================] - 4s 3ms/step - loss: 1.7608 - accuracy: 0.3590 - val_loss: 1.8049 - val_accuracy: 0.3580\n",
      "Epoch 4/100\n",
      "1403/1407 [============================>.] - ETA: 0s - loss: 1.6648 - accuracy: 0.3985"
     ]
    },
    {
     "name": "stderr",
     "output_type": "stream",
     "text": [
      "WARNING:absl:Found untraced functions such as _update_step_xla while saving (showing 1 of 1). These functions will not be directly callable after loading.\n"
     ]
    },
    {
     "name": "stdout",
     "output_type": "stream",
     "text": [
      "INFO:tensorflow:Assets written to: cifar10_selu\\assets\n"
     ]
    },
    {
     "name": "stderr",
     "output_type": "stream",
     "text": [
      "INFO:tensorflow:Assets written to: cifar10_selu\\assets\n"
     ]
    },
    {
     "name": "stdout",
     "output_type": "stream",
     "text": [
      "1407/1407 [==============================] - 5s 3ms/step - loss: 1.6648 - accuracy: 0.3986 - val_loss: 1.7211 - val_accuracy: 0.3804\n",
      "Epoch 5/100\n",
      "1407/1407 [==============================] - 3s 2ms/step - loss: 1.5700 - accuracy: 0.4377 - val_loss: 1.7372 - val_accuracy: 0.3956\n",
      "Epoch 6/100\n",
      "1384/1407 [============================>.] - ETA: 0s - loss: 1.4888 - accuracy: 0.4690"
     ]
    },
    {
     "name": "stderr",
     "output_type": "stream",
     "text": [
      "WARNING:absl:Found untraced functions such as _update_step_xla while saving (showing 1 of 1). These functions will not be directly callable after loading.\n"
     ]
    },
    {
     "name": "stdout",
     "output_type": "stream",
     "text": [
      "INFO:tensorflow:Assets written to: cifar10_selu\\assets\n"
     ]
    },
    {
     "name": "stderr",
     "output_type": "stream",
     "text": [
      "INFO:tensorflow:Assets written to: cifar10_selu\\assets\n"
     ]
    },
    {
     "name": "stdout",
     "output_type": "stream",
     "text": [
      "1407/1407 [==============================] - 5s 3ms/step - loss: 1.4894 - accuracy: 0.4687 - val_loss: 1.6725 - val_accuracy: 0.4224\n",
      "Epoch 7/100\n",
      "1407/1407 [==============================] - 3s 2ms/step - loss: 1.4125 - accuracy: 0.4952 - val_loss: 1.6748 - val_accuracy: 0.4088\n",
      "Epoch 8/100\n",
      "1395/1407 [============================>.] - ETA: 0s - loss: 1.3404 - accuracy: 0.5230"
     ]
    },
    {
     "name": "stderr",
     "output_type": "stream",
     "text": [
      "WARNING:absl:Found untraced functions such as _update_step_xla while saving (showing 1 of 1). These functions will not be directly callable after loading.\n"
     ]
    },
    {
     "name": "stdout",
     "output_type": "stream",
     "text": [
      "INFO:tensorflow:Assets written to: cifar10_selu\\assets\n"
     ]
    },
    {
     "name": "stderr",
     "output_type": "stream",
     "text": [
      "INFO:tensorflow:Assets written to: cifar10_selu\\assets\n"
     ]
    },
    {
     "name": "stdout",
     "output_type": "stream",
     "text": [
      "1407/1407 [==============================] - 4s 3ms/step - loss: 1.3414 - accuracy: 0.5228 - val_loss: 1.6321 - val_accuracy: 0.4300\n",
      "Epoch 9/100\n",
      "1407/1407 [==============================] - 3s 2ms/step - loss: 1.2766 - accuracy: 0.5455 - val_loss: 1.7242 - val_accuracy: 0.4284\n",
      "Epoch 10/100\n",
      "1407/1407 [==============================] - 3s 2ms/step - loss: 1.2123 - accuracy: 0.5732 - val_loss: 1.7191 - val_accuracy: 0.4324\n",
      "Epoch 11/100\n",
      "1407/1407 [==============================] - 3s 2ms/step - loss: 1.1508 - accuracy: 0.5935 - val_loss: 1.7470 - val_accuracy: 0.4332\n",
      "Epoch 12/100\n",
      "1407/1407 [==============================] - 3s 2ms/step - loss: 1.1013 - accuracy: 0.6145 - val_loss: 1.7329 - val_accuracy: 0.4348\n",
      "Epoch 13/100\n",
      "1407/1407 [==============================] - 3s 2ms/step - loss: 1.0483 - accuracy: 0.6313 - val_loss: 1.7881 - val_accuracy: 0.4392\n",
      "Epoch 14/100\n",
      "1407/1407 [==============================] - 3s 2ms/step - loss: 1.0024 - accuracy: 0.6515 - val_loss: 1.8139 - val_accuracy: 0.4424\n",
      "Epoch 15/100\n",
      "1407/1407 [==============================] - 3s 2ms/step - loss: 0.9587 - accuracy: 0.6664 - val_loss: 1.8871 - val_accuracy: 0.4438\n",
      "Epoch 16/100\n",
      "1407/1407 [==============================] - 3s 2ms/step - loss: 0.9099 - accuracy: 0.6895 - val_loss: 1.9446 - val_accuracy: 0.4450\n",
      "Epoch 17/100\n",
      "1407/1407 [==============================] - 3s 2ms/step - loss: 0.8754 - accuracy: 0.7018 - val_loss: 1.8881 - val_accuracy: 0.4336\n",
      "Epoch 18/100\n",
      "1407/1407 [==============================] - 3s 2ms/step - loss: 0.8395 - accuracy: 0.7118 - val_loss: 1.9992 - val_accuracy: 0.4442\n",
      "Epoch 19/100\n",
      "1407/1407 [==============================] - 3s 2ms/step - loss: 0.9066 - accuracy: 0.6906 - val_loss: 1.9511 - val_accuracy: 0.4322\n",
      "Epoch 20/100\n",
      "1407/1407 [==============================] - 3s 2ms/step - loss: 0.7764 - accuracy: 0.7352 - val_loss: 2.0558 - val_accuracy: 0.4380\n",
      "Epoch 21/100\n",
      "1407/1407 [==============================] - 3s 2ms/step - loss: 0.7493 - accuracy: 0.7462 - val_loss: 2.1493 - val_accuracy: 0.4300\n",
      "Epoch 22/100\n",
      "1407/1407 [==============================] - 3s 2ms/step - loss: 0.7365 - accuracy: 0.7522 - val_loss: 2.1835 - val_accuracy: 0.4340\n",
      "Epoch 23/100\n",
      "1407/1407 [==============================] - 3s 2ms/step - loss: 0.7201 - accuracy: 0.7596 - val_loss: 2.1249 - val_accuracy: 0.4284\n",
      "Epoch 24/100\n",
      "1407/1407 [==============================] - 3s 2ms/step - loss: 0.7049 - accuracy: 0.7636 - val_loss: 2.1152 - val_accuracy: 0.4416\n",
      "Epoch 25/100\n",
      "1407/1407 [==============================] - 3s 2ms/step - loss: 0.6792 - accuracy: 0.7731 - val_loss: 2.1507 - val_accuracy: 0.4364\n",
      "Epoch 26/100\n",
      "1407/1407 [==============================] - 3s 2ms/step - loss: 0.6678 - accuracy: 0.7774 - val_loss: 2.1973 - val_accuracy: 0.4304\n",
      "Epoch 27/100\n",
      "1407/1407 [==============================] - 3s 2ms/step - loss: 0.6465 - accuracy: 0.7854 - val_loss: 2.1150 - val_accuracy: 0.4326\n",
      "Epoch 28/100\n",
      "1407/1407 [==============================] - 3s 2ms/step - loss: 0.6297 - accuracy: 0.7932 - val_loss: 2.1958 - val_accuracy: 0.4302\n"
     ]
    },
    {
     "data": {
      "text/plain": [
       "<keras.callbacks.History at 0x286366bc100>"
      ]
     },
     "execution_count": 19,
     "metadata": {},
     "output_type": "execute_result"
    }
   ],
   "source": [
    "model_with_SELU.fit(x_train_pca_scaled, y_train, epochs = 100, validation_data = (x_valid_pca_scaled, y_valid), callbacks = callbacks)"
   ]
  },
  {
   "cell_type": "code",
   "execution_count": 20,
   "id": "d0b74efa",
   "metadata": {},
   "outputs": [],
   "source": [
    "model_drop_SELU = tf.keras.Sequential()\n",
    "model_drop_SELU.add(tf.keras.layers.Flatten())\n",
    "for i in range(20):\n",
    "    model_drop_SELU.add(tf.keras.layers.Dense(100, kernel_initializer = \"lecun_normal\", activation = \"selu\"))\n",
    "\n",
    "model_drop_SELU.add(tf.keras.layers.AlphaDropout(rate = 0.4))\n",
    "model_drop_SELU.add(tf.keras.layers.Dense(10, activation = \"softmax\"))\n",
    "\n",
    "optimizer = tf.keras.optimizers.Nadam(learning_rate = 5e-4)\n",
    "model_drop_SELU.compile(loss = \"sparse_categorical_crossentropy\", optimizer = optimizer, metrics = [\"accuracy\"])\n",
    "\n",
    "early_stop_cb = tf.keras.callbacks.EarlyStopping(patience = 20, restore_best_weights = True)\n",
    "model_checkpoint_cb = tf.keras.callbacks.ModelCheckpoint(\"cifar10_selu\", save_best_only = True)\n",
    "run_index = 1\n",
    "logdir = Path() / \"logs_test\" / f\"run_selu_{run_index:03d}\"\n",
    "tensorboard_cb = tf.keras.callbacks.TensorBoard(logdir)\n",
    "callbacks = [early_stop_cb, model_checkpoint_cb, tensorboard_cb]\n",
    "\n",
    "x_train_scaled = scaler.fit_transform(x_train.reshape(-1, 3072))\n",
    "x_valid_scaled = scaler.transform(x_valid.reshape(-1, 3072))\n",
    "x_test_scaled =  scaler.transform(x_test.reshape(-1, 3072))"
   ]
  },
  {
   "cell_type": "code",
   "execution_count": 21,
   "id": "195a14a6",
   "metadata": {},
   "outputs": [
    {
     "name": "stdout",
     "output_type": "stream",
     "text": [
      "Epoch 1/100\n",
      "1396/1407 [============================>.] - ETA: 0s - loss: 1.9407 - accuracy: 0.3073"
     ]
    },
    {
     "name": "stderr",
     "output_type": "stream",
     "text": [
      "WARNING:absl:Found untraced functions such as _update_step_xla while saving (showing 1 of 1). These functions will not be directly callable after loading.\n"
     ]
    },
    {
     "name": "stdout",
     "output_type": "stream",
     "text": [
      "INFO:tensorflow:Assets written to: cifar10_selu\\assets\n"
     ]
    },
    {
     "name": "stderr",
     "output_type": "stream",
     "text": [
      "INFO:tensorflow:Assets written to: cifar10_selu\\assets\n"
     ]
    },
    {
     "name": "stdout",
     "output_type": "stream",
     "text": [
      "1407/1407 [==============================] - 10s 5ms/step - loss: 1.9391 - accuracy: 0.3078 - val_loss: 2.0301 - val_accuracy: 0.3668\n",
      "Epoch 2/100\n",
      "1398/1407 [============================>.] - ETA: 0s - loss: 1.7334 - accuracy: 0.3855"
     ]
    },
    {
     "name": "stderr",
     "output_type": "stream",
     "text": [
      "WARNING:absl:Found untraced functions such as _update_step_xla while saving (showing 1 of 1). These functions will not be directly callable after loading.\n"
     ]
    },
    {
     "name": "stdout",
     "output_type": "stream",
     "text": [
      "INFO:tensorflow:Assets written to: cifar10_selu\\assets\n"
     ]
    },
    {
     "name": "stderr",
     "output_type": "stream",
     "text": [
      "INFO:tensorflow:Assets written to: cifar10_selu\\assets\n"
     ]
    },
    {
     "name": "stdout",
     "output_type": "stream",
     "text": [
      "1407/1407 [==============================] - 7s 5ms/step - loss: 1.7333 - accuracy: 0.3859 - val_loss: 1.8368 - val_accuracy: 0.4166\n",
      "Epoch 3/100\n",
      "1397/1407 [============================>.] - ETA: 0s - loss: 1.6309 - accuracy: 0.4295"
     ]
    },
    {
     "name": "stderr",
     "output_type": "stream",
     "text": [
      "WARNING:absl:Found untraced functions such as _update_step_xla while saving (showing 1 of 1). These functions will not be directly callable after loading.\n"
     ]
    },
    {
     "name": "stdout",
     "output_type": "stream",
     "text": [
      "INFO:tensorflow:Assets written to: cifar10_selu\\assets\n"
     ]
    },
    {
     "name": "stderr",
     "output_type": "stream",
     "text": [
      "INFO:tensorflow:Assets written to: cifar10_selu\\assets\n"
     ]
    },
    {
     "name": "stdout",
     "output_type": "stream",
     "text": [
      "1407/1407 [==============================] - 7s 5ms/step - loss: 1.6309 - accuracy: 0.4295 - val_loss: 1.8036 - val_accuracy: 0.4480\n",
      "Epoch 4/100\n",
      "1400/1407 [============================>.] - ETA: 0s - loss: 1.5636 - accuracy: 0.4539"
     ]
    },
    {
     "name": "stderr",
     "output_type": "stream",
     "text": [
      "WARNING:absl:Found untraced functions such as _update_step_xla while saving (showing 1 of 1). These functions will not be directly callable after loading.\n"
     ]
    },
    {
     "name": "stdout",
     "output_type": "stream",
     "text": [
      "INFO:tensorflow:Assets written to: cifar10_selu\\assets\n"
     ]
    },
    {
     "name": "stderr",
     "output_type": "stream",
     "text": [
      "INFO:tensorflow:Assets written to: cifar10_selu\\assets\n"
     ]
    },
    {
     "name": "stdout",
     "output_type": "stream",
     "text": [
      "1407/1407 [==============================] - 7s 5ms/step - loss: 1.5636 - accuracy: 0.4539 - val_loss: 1.7515 - val_accuracy: 0.4504\n",
      "Epoch 5/100\n",
      "1398/1407 [============================>.] - ETA: 0s - loss: 1.5063 - accuracy: 0.4750"
     ]
    },
    {
     "name": "stderr",
     "output_type": "stream",
     "text": [
      "WARNING:absl:Found untraced functions such as _update_step_xla while saving (showing 1 of 1). These functions will not be directly callable after loading.\n"
     ]
    },
    {
     "name": "stdout",
     "output_type": "stream",
     "text": [
      "INFO:tensorflow:Assets written to: cifar10_selu\\assets\n"
     ]
    },
    {
     "name": "stderr",
     "output_type": "stream",
     "text": [
      "INFO:tensorflow:Assets written to: cifar10_selu\\assets\n"
     ]
    },
    {
     "name": "stdout",
     "output_type": "stream",
     "text": [
      "1407/1407 [==============================] - 7s 5ms/step - loss: 1.5067 - accuracy: 0.4748 - val_loss: 1.6718 - val_accuracy: 0.4682\n",
      "Epoch 6/100\n",
      "1407/1407 [==============================] - 5s 4ms/step - loss: 1.4584 - accuracy: 0.4919 - val_loss: 1.7719 - val_accuracy: 0.4708\n",
      "Epoch 7/100\n",
      "1407/1407 [==============================] - 5s 4ms/step - loss: 1.4176 - accuracy: 0.5102 - val_loss: 1.7461 - val_accuracy: 0.4880\n",
      "Epoch 8/100\n",
      "1407/1407 [==============================] - 5s 4ms/step - loss: 1.3778 - accuracy: 0.5228 - val_loss: 1.7256 - val_accuracy: 0.4770\n",
      "Epoch 9/100\n",
      "1407/1407 [==============================] - 5s 4ms/step - loss: 1.3438 - accuracy: 0.5364 - val_loss: 1.9097 - val_accuracy: 0.4824\n",
      "Epoch 10/100\n",
      "1407/1407 [==============================] - 5s 4ms/step - loss: 1.3096 - accuracy: 0.5473 - val_loss: 1.9849 - val_accuracy: 0.4860\n",
      "Epoch 11/100\n",
      "1407/1407 [==============================] - 5s 4ms/step - loss: 1.2785 - accuracy: 0.5604 - val_loss: 1.9769 - val_accuracy: 0.4842\n",
      "Epoch 12/100\n",
      "1407/1407 [==============================] - 5s 4ms/step - loss: 1.2514 - accuracy: 0.5696 - val_loss: 1.8211 - val_accuracy: 0.4938\n",
      "Epoch 13/100\n",
      "1407/1407 [==============================] - 6s 4ms/step - loss: 1.2213 - accuracy: 0.5771 - val_loss: 1.9491 - val_accuracy: 0.5002\n",
      "Epoch 14/100\n",
      "1407/1407 [==============================] - 5s 4ms/step - loss: 1.1876 - accuracy: 0.5914 - val_loss: 1.9528 - val_accuracy: 0.4906\n",
      "Epoch 15/100\n",
      "1407/1407 [==============================] - 5s 4ms/step - loss: 1.1644 - accuracy: 0.6025 - val_loss: 2.0212 - val_accuracy: 0.4952\n",
      "Epoch 16/100\n",
      "1407/1407 [==============================] - 5s 4ms/step - loss: 1.2029 - accuracy: 0.5890 - val_loss: 1.9788 - val_accuracy: 0.5072\n",
      "Epoch 17/100\n",
      "1407/1407 [==============================] - 5s 4ms/step - loss: 1.1199 - accuracy: 0.6159 - val_loss: 2.1159 - val_accuracy: 0.5060\n",
      "Epoch 18/100\n",
      "1407/1407 [==============================] - 5s 4ms/step - loss: 1.0906 - accuracy: 0.6271 - val_loss: 2.2236 - val_accuracy: 0.5108\n",
      "Epoch 19/100\n",
      "1407/1407 [==============================] - 5s 4ms/step - loss: 1.0742 - accuracy: 0.6332 - val_loss: 2.1347 - val_accuracy: 0.5068\n",
      "Epoch 20/100\n",
      "1407/1407 [==============================] - 5s 4ms/step - loss: 1.0580 - accuracy: 0.6383 - val_loss: 2.2137 - val_accuracy: 0.5088\n",
      "Epoch 21/100\n",
      "1407/1407 [==============================] - 5s 4ms/step - loss: 1.0359 - accuracy: 0.6465 - val_loss: 2.1954 - val_accuracy: 0.5118\n",
      "Epoch 22/100\n",
      "1407/1407 [==============================] - 5s 4ms/step - loss: 1.0238 - accuracy: 0.6517 - val_loss: 2.1967 - val_accuracy: 0.5010\n",
      "Epoch 23/100\n",
      "1407/1407 [==============================] - 5s 4ms/step - loss: 1.0007 - accuracy: 0.6612 - val_loss: 2.2583 - val_accuracy: 0.5190\n",
      "Epoch 24/100\n",
      "1407/1407 [==============================] - 5s 4ms/step - loss: 0.9821 - accuracy: 0.6676 - val_loss: 2.2186 - val_accuracy: 0.5068\n",
      "Epoch 25/100\n",
      "1407/1407 [==============================] - 5s 4ms/step - loss: 0.9692 - accuracy: 0.6712 - val_loss: 2.2980 - val_accuracy: 0.5126\n"
     ]
    },
    {
     "data": {
      "text/plain": [
       "<keras.callbacks.History at 0x286633f34f0>"
      ]
     },
     "execution_count": 21,
     "metadata": {},
     "output_type": "execute_result"
    }
   ],
   "source": [
    "model_drop_SELU.fit(x_train_scaled, y_train, epochs = 100, validation_data = (x_valid_scaled, y_valid), callbacks = callbacks)"
   ]
  },
  {
   "cell_type": "code",
   "execution_count": 22,
   "id": "50c3e43b",
   "metadata": {},
   "outputs": [
    {
     "data": {
      "text/plain": [
       "Reusing TensorBoard on port 6006 (pid 8996), started 0:50:31 ago. (Use '!kill 8996' to kill it.)"
      ]
     },
     "metadata": {},
     "output_type": "display_data"
    },
    {
     "data": {
      "text/html": [
       "\n",
       "      <iframe id=\"tensorboard-frame-da5556e8f6408fcd\" width=\"100%\" height=\"800\" frameborder=\"0\">\n",
       "      </iframe>\n",
       "      <script>\n",
       "        (function() {\n",
       "          const frame = document.getElementById(\"tensorboard-frame-da5556e8f6408fcd\");\n",
       "          const url = new URL(\"/\", window.location);\n",
       "          const port = 6006;\n",
       "          if (port) {\n",
       "            url.port = port;\n",
       "          }\n",
       "          frame.src = url;\n",
       "        })();\n",
       "      </script>\n",
       "    "
      ],
      "text/plain": [
       "<IPython.core.display.HTML object>"
      ]
     },
     "metadata": {},
     "output_type": "display_data"
    }
   ],
   "source": [
    "%tensorboard --logdir=./logs_test"
   ]
  }
 ],
 "metadata": {
  "kernelspec": {
   "display_name": "Python 3 (ipykernel)",
   "language": "python",
   "name": "python3"
  },
  "language_info": {
   "codemirror_mode": {
    "name": "ipython",
    "version": 3
   },
   "file_extension": ".py",
   "mimetype": "text/x-python",
   "name": "python",
   "nbconvert_exporter": "python",
   "pygments_lexer": "ipython3",
   "version": "3.9.16"
  }
 },
 "nbformat": 4,
 "nbformat_minor": 5
}
